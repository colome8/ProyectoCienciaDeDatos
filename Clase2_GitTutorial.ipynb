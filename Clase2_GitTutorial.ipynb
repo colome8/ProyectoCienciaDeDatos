{
 "cells": [
  {
   "cell_type": "markdown",
   "metadata": {
    "pycharm": {
     "name": "#%% md\n"
    },
    "slideshow": {
     "slide_type": "slide"
    }
   },
   "source": [
    "# `git`, `GitHub`\n",
    "\n",
    "\n",
    "<img style=\"float: left; margin: 15px 15px 15px 15px;\" src=\"https://git-scm.com/images/logo@2x.png\" width=\"180\" height=\"50\" />\n",
    "<img style=\"float: left; margin: 15px 15px 15px 15px;\" src=\"https://c1.staticflickr.com/3/2238/13158675193_2892abac95_z.jpg\" title=\"github\" width=\"180\" height=\"50\" />"
   ]
  },
  {
   "cell_type": "markdown",
   "metadata": {
    "pycharm": {
     "name": "#%% md\n"
    }
   },
   "source": [
    "___\n",
    "## ¿Qué es un sistema de control de versiones?\n",
    "\n",
    "Un sistema de control de versiones (ó VCS por sus siglas en inglés), da segumiento al historial de cambios, personas y equipos que colaboraron en un proyecto. A medida que el proyecto evoluciona, los equipos pueden realizar pruebas, arreglar errores, y contribuir con nuevo código con la confianza de que cualquier versión puede ser recuperada en cualquier momento.\n",
    "\n",
    "Los desarrolladores pueden revisar el historial del proyecto para encontrar:\n",
    "\n",
    "- ¿Qué cambios se han realizado?\n",
    "- ¿Quién hizo esos cambios?\n",
    "- ¿Cuándo fueron realizados esos cambios?\n",
    "- ¿Por qué esos cambios son necesarios?"
   ]
  },
  {
   "cell_type": "markdown",
   "metadata": {
    "pycharm": {
     "name": "#%% md\n"
    }
   },
   "source": [
    "___\n",
    "## ¿Qué es `git`?\n",
    "<img style=\"float: right; margin: 15px 15px 15px 15px;\" src=\"https://git-scm.com/images/logo@2x.png\" title=\"git\" width=\"180\" height=\"50\">\n",
    "\n",
    "+ `git` es un software (de código abierto) de control de versiones diseñado por *Linus Torvalds*, pensando en la eficiencia y la confiabilidad del mantenimiento de versiones de aplicaciones cuando éstas tienen un gran número de archivos de código fuente.\n",
    "\n",
    "+ Su propósito es llevar registro de los cambios en archivos de computadora y coordinar el trabajo que varias personas realizan sobre archivos compartidos.\n",
    "\n",
    "### ¿Por qué usar `git`?\n",
    "+ `git` es comúnmente usado para desarrollo de software tanto de código abierto como para uso comercial, con grandes beneficios para inidivduos, equipos y negocios.\n",
    "\n",
    "+ `git` permite a los desarrolladores ver toda la línea de tiempo de sus cambios, decisiones y progreso de cualquier proyecto en un solo lugar. Desde el momento en que ellos acceden al historial de un proyecto, el desarrollador tiene todo el contexto que ellos necesitan para entender el proyecto y empezar sus contribuciones.\n",
    "\n",
    "+ Los desarrolladores trabajan en todas las zonas horarias. Con `git`, las colaboraciones pueden ocurrir en cualquier momento manteniendo la integridad del código fuente. Usando ramas, los desarrolladores pueden proponer cambios de manera segura."
   ]
  },
  {
   "cell_type": "markdown",
   "metadata": {
    "pycharm": {
     "name": "#%% md\n"
    }
   },
   "source": [
    "### ¿Qué es un repositorio?\n",
    "\n",
    "Un **repositorio** (o un proyecto de `git`) engloba la colección entera de archivos y carpetas asociados con un proyecto, junto con cada archivo del historial de revisión. El archivo de historial aparece en la línea temporal llamado **commits** , y los *commits* existen como una relación en una lista enlazada, y pueden ser organizados en múltiples línes de desarrollos llamadas **branches**. \n",
    "\n",
    "Usando líneas de comando o una interfaz gráfica, un **repositorio** permite: Interactuar con el historial, clonar, crear ramificaciones (branches), realizar *commit*, unificaciones de ramas (**merge**), comparar cambios entre versiones del código, etc."
   ]
  },
  {
   "cell_type": "markdown",
   "metadata": {},
   "source": [
    "Otras fuentes para consultar:\n",
    "- [Git explicado con gaticos](https://girliemac.com/blog/2017/12/26/git-purr/)\n",
    "- [Git Cheatsheet](https://education.github.com/git-cheat-sheet-education.pdf)"
   ]
  },
  {
   "cell_type": "markdown",
   "metadata": {
    "pycharm": {
     "name": "#%% md\n"
    }
   },
   "source": [
    "___\n",
    "### **Descargar `git`**\n",
    "\n",
    "https://git-scm.com/downloads"
   ]
  },
  {
   "cell_type": "markdown",
   "metadata": {
    "pycharm": {
     "name": "#%% md\n"
    }
   },
   "source": [
    "**Referencias:** \n",
    "- Documentación oficial de `git`: https://git-scm.com/doc\n",
    "- Control de versiones wiki: https://es.wikipedia.org/wiki/Control_de_versiones\n",
    "- `git` wiki: https://es.wikipedia.org/wiki/Git\n",
    "- Tutorial git: https://try.github.io/\n",
    "- Tutorial branching en `git`: http://learngitbranching.js.org"
   ]
  },
  {
   "cell_type": "markdown",
   "metadata": {
    "pycharm": {
     "name": "#%% md\n"
    }
   },
   "source": [
    "___\n",
    "## ¿Qué es `GitHub`?\n",
    "<img style=\"float: right; margin: 15px 15px 15px 15px;\" src=\"https://c1.staticflickr.com/3/2238/13158675193_2892abac95_z.jpg\" title=\"git\" width=\"180\" height=\"50\">\n",
    "\n",
    "`git` es independiente de `GitHub`, y es el programa que se usa para gestionar todos los cambios en las versiones de un proyecto (individual o colaborativo, local o de acceso remoto).\n",
    "\n",
    "`GitHub` es una compañía que ofrece servicios de *hosting* para repositorios de `git`, y es la forma más popular para trabajar con el control de versiones que brinda `git` de forma colaborativa. En pocas palabras, permite que tanto tú como otras personas del mundo trabajen juntos en proyectos, haciendo control de versiones con `git`.\n",
    "\n",
    "De forma que usando `git` y `GitHub` en conjunto se puede trabajar tanto:\n",
    "- De forma local: repositorios en tu equipo, sin necesidad de conexión a internet (usando únicamente `git`).\n",
    "- De forma remota: repositorios remotos (compartidos) que no están necesariamente en tu máquina."
   ]
  },
  {
   "cell_type": "markdown",
   "metadata": {},
   "source": [
    "___\n",
    "## Herramientas Gráficas para `Git` y `GitHub`\n",
    "+ Ya vimos que todos los procedimientos con `git` se pueden correr desde la *consola*. Sin embargo, este modo de utilizar `git` puede ser tedioso para algunos (esto no solo ocurre con `git`).\n",
    "\n",
    "+ Por ello, `git` viene con algunas herramientas *GUI* (Graphical User Interface) por defecto con su instalación. Aún así, existen varias GUI desarrolladas por otras compañías para brindar una experiencia más cómoda según el sistema operativo.\n",
    "\n",
    "\n",
    "### 1. GitKraken\n",
    "<img style=\"display: block; margin: auto;\" src=\"https://mma.prnewswire.com/media/1630348/gitkraken_Logo.jpg\" title=\"git\" width=\"380\" height=\"50\">\n",
    "\n",
    "+ `GitKraken` es una de estas GUI, **gratuita para el uso no comercial**, que tiene versiones para los sistemas operativos *Windows*, *Mac* y *Linux*.  \n",
    "+ GitKraken es una potente herramienta visual que facilita la gestión de repositorios Git. Es especialmente útil para aquellos que prefieren una interfaz gráfica para manejar Git.\n",
    "+ Principales Funcionalidades:\n",
    "    - **Vista del Historial de Commits y Ramas:** GitKraken permite visualizar de forma clara y gráfica el historial de commits y las ramas, mostrando las fusiones y bifurcaciones.\n",
    "    - **Gestión de Ramas:** Puedes crear, renombrar, fusionar y eliminar ramas de manera visual, evitando posibles errores de comandos.\n",
    "    - **Resolución de Conflictos:** GitKraken ofrece una interfaz intuitiva para resolver conflictos de fusión, mostrando lado a lado los cambios y permitiendo seleccionar los fragmentos de código que se desean mantener.\n",
    "    - **Manejo de Pull Requests:** Integrado con GitHub, GitKraken permite crear, revisar y fusionar Pull Requests directamente desde la interfaz.\n",
    "\n",
    "\n",
    "### 2. GitHub Desktop\n",
    "<img style=\"display: block; margin: auto;\" src=\"https://upload.wikimedia.org/wikipedia/commons/thumb/a/ae/Github-desktop-logo-symbol.svg/2048px-Github-desktop-logo-symbol.svg.png\" title=\"git\" width=\"180\" height=\"50\">\n",
    "\n",
    "+ GitHub Desktop es una aplicación que proporciona una manera sencilla de trabajar con Git y GitHub sin utilizar la terminal.\n",
    "+ Principales Funcionalidades:\n",
    "    - **Sincronización con GitHub:** Permite sincronizar tu trabajo local con repositorios remotos en GitHub, facilitando el manejo de pushes y pulls.\n",
    "    - **Visualización de Cambios:** GitHub Desktop ofrece una vista detallada de los cambios en tus archivos, permitiéndote hacer commits fácilmente.\n",
    "    - **Flujo de Trabajo Sencillo:** La interfaz está diseñada para simplificar las tareas comunes de Git como el commit, la creación de ramas, y la resolución de conflictos.\n",
    "    - **Manejo de Issues:** Puedes enlazar commits con issues en GitHub directamente desde la aplicación, facilitando la gestión de tareas.\n",
    "\n",
    "### 3. Git en VSCode\n",
    "\n",
    "<img style=\"display: block; margin: auto;\" src=\"https://code.visualstudio.com/assets/docs/sourcecontrol/intro/scm-staging.png\" title=\"git\" width=\"480\" height=\"50\">\n",
    "\n",
    "[Documentación](https://code.visualstudio.com/docs/sourcecontrol/intro-to-git)\n",
    "\n",
    "+ Visual Studio Code (VSCode) es un editor de código que incluye una excelente integración con Git, permitiendo manejar casi todas las funciones de Git desde la misma interfaz.\n",
    "+ Principales Funcionalidades:\n",
    "    - **Control de Versiones:** VSCode tiene un panel dedicado para Git, donde puedes ver los cambios, hacer staging de archivos, y realizar commits.\n",
    "    - **Gestión de Ramas:** Puedes crear, cambiar, y fusionar ramas desde el mismo VSCode.\n",
    "    - **Difusión de Cambios:** VSCode te permite ver las diferencias entre tu código y el último commit, facilitando la revisión de cambios antes de hacer un commit.\n",
    "    - **Extensiones:** Puedes instalar extensiones adicionales para mejorar la integración con GitHub y otras herramientas.\n",
    "\n",
    "### 4. Git en PyCharm\n",
    "\n",
    "[Documentación](https://www.jetbrains.com/help/pycharm/set-up-a-git-repository.html)\n",
    "\n",
    "+ PyCharm es un IDE especializado en desarrollo en Python que también incluye una fuerte integración con Git.\n",
    "+ Principales Funcionalidades:\n",
    "\n",
    "    - **Control de Versiones Integrado:** Al igual que VSCode, PyCharm tiene un panel de control de versiones que permite ver y manejar cambios en tu código.\n",
    "    - **Gestión de Ramas:** Puedes crear y cambiar ramas directamente desde la interfaz de PyCharm.\n",
    "    - **Resolución de Conflictos:** PyCharm ofrece herramientas gráficas para resolver conflictos de manera visual.\n",
    "    - **Revisión de Código:** Integra herramientas para la revisión de código, permitiendo comparar cambios antes de hacer commits."
   ]
  },
  {
   "cell_type": "markdown",
   "metadata": {},
   "source": [
    "<img src=\"images/git-for-no-developers.png\" alt=\"Git for No Developers\" style=\"display: block; margin: auto;\" width=\"550\" height=\"200\">\n"
   ]
  },
  {
   "cell_type": "markdown",
   "metadata": {},
   "source": [
    "___\n",
    "### Actividad\n",
    "\n",
    "Vamos a crear un repositorio y hacer algunos movimientos y operaciones.\n",
    "\n",
    "- Clonar\n",
    "- Commits: https://www.conventionalcommits.org/en/v1.0.0/\n",
    "- Push\n",
    "- Pull\n",
    "- Branch\n",
    "- Pull Request\n",
    "- Merge"
   ]
  },
  {
   "cell_type": "markdown",
   "metadata": {},
   "source": [
    "## Tarea 2\n",
    "\n",
    "Crear un nuevo repositorio en su cuenta de `GitHub` llamado `Tarea2_PCD`. En dicho proyecto añadir un notebook de jupyter que debe contener lo siguiente:\n",
    "\n",
    "1. Un resumen de al menos uno de los siguientes artículos donde se resalta la importancia del despliegue en producción de proyectos de ML:\n",
    "    - https://aws.amazon.com/es/what-is/mlops/\n",
    "    - https://www.redhat.com/en/topics/ai/what-is-mlops \n",
    "    - https://www.databricks.com/glossary/mlops \n",
    "    - https://learn.microsoft.com/en-us/azure/architecture/ai-ml/guide/mlops-maturity-model\n",
    "    - https://towardsdatascience.com/a-gentle-introduction-to-mlops-7d64a3e890ff\n",
    "\n",
    "2. El repositorio debe contener al menos 2 `commits` detallados de los cambios hechos en el notebook de jupyter.\n",
    "\n",
    "3. El nombre del archivo debe ser el siguiente T2_PrimerNombrePrimerApellido.ipynb, en mi caso sería T2_CristianZapata.ipynb.\n",
    "\n",
    "4. El archivo debe existir en una rama que se llame `feature-1` adicional a la rama principal `main`.\n",
    "\n",
    "5. La rama `main` debe tener un archivo `README.md` con información acerca del repositorio (¿Qué contiene el repo? ¿Qué ramas existen? ¿Para qué se hizo?)\n",
    "\n",
    "\n",
    "Recuerde el uso de la sintáxis Markdown: [https://www.markdownguide.org/cheat-sheet/](https://www.markdownguide.org/cheat-sheet/)\n",
    "\n",
    "\n",
    "**ENTREGABLE: SE DEBE SUBIR EL ENLACE DE GITHUB AL REPOSITORIO INDICADO.**\n",
    "**FECHA DE ENTREGA:** Martes 20 de Agosto a las 19:55"
   ]
  },
  {
   "cell_type": "markdown",
   "metadata": {},
   "source": [
    "## QUIZ 1 LA SIGUIENTE CLASE, Martes 20 DE AGOSTO AL INICIAR LA CLASE.\n",
    "## SERA SOBRE LOS TEMAS VISTOS EN ESTA CLASE: GIT, GITHUB."
   ]
  },
  {
   "cell_type": "markdown",
   "metadata": {
    "pycharm": {
     "name": "#%% md\n"
    }
   },
   "source": [
    "<img src=\"https://raw.githubusercontent.com/louim/in-case-of-fire/master/in_case_of_fire.png\" title=\"In case of fire (https://github.com/louim/in-case-of-fire)\" width=\"200\" height=\"50\" align=\"center\">"
   ]
  },
  {
   "cell_type": "markdown",
   "metadata": {
    "pycharm": {
     "name": "#%% md\n"
    }
   },
   "source": [
    "<script>\n",
    "  $(document).ready(function(){\n",
    "    $('div.prompt').hide();\n",
    "    $('div.back-to-top').hide();\n",
    "    $('nav#menubar').hide();\n",
    "    $('.breadcrumb').hide();\n",
    "    $('.hidden-print').hide();\n",
    "  });\n",
    "</script>\n",
    "\n",
    "<footer id=\"attribution\" style=\"float:right; color:#808080; background:#fff;\">\n",
    "Created with Jupyter by Cristian Camilo Zapata Zuluaga.\n",
    "</footer>"
   ]
  }
 ],
 "metadata": {
  "kernelspec": {
   "display_name": "Python 3 (ipykernel)",
   "language": "python",
   "name": "python3"
  },
  "language_info": {
   "codemirror_mode": {
    "name": "ipython",
    "version": 3
   },
   "file_extension": ".py",
   "mimetype": "text/x-python",
   "name": "python",
   "nbconvert_exporter": "python",
   "pygments_lexer": "ipython3",
   "version": "3.12.4"
  }
 },
 "nbformat": 4,
 "nbformat_minor": 4
}
