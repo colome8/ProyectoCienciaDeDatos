{
 "cells": [
  {
   "cell_type": "markdown",
   "metadata": {},
   "source": [
    "# TAREA 1: PEP8, LINTERNS Y FORMATTERS\n",
    "\n",
    "## Juan Pablo Colomé"
   ]
  },
  {
   "cell_type": "markdown",
   "metadata": {},
   "source": [
    "### 1. Why we need PEP8\n",
    "-\tfocuses in code readability\n",
    "-\tGuido van Rossum said \"Code is read much more often than its written\"\n",
    "-\tyou forget what a code does in some days so its great to have a format where you can identify key parts of the code.\n",
    "-\tPEP8 is a format that has specific rules for things like naming variables, adding whitespace and making comments.\n",
    "-\tPEP8 shows professionalism and helps for job offers.\n",
    "-\tThe use of PEP8 makes your code understandable for most people.\n"
   ]
  },
  {
   "cell_type": "markdown",
   "metadata": {},
   "source": [
    "### 2. Naming conventions\n",
    "-\tWhen naming variables, functions or others its better to be as explicit as you can be. \n",
    "-\tThis way you avoid confusions and its easier to tell what everything is about.\n",
    "-\tthere are some rules:\n",
    "1.\tfunction: lowercase_underscore\n",
    "2.\tvariable: lowercase_single_letter_(i), word_or_words\n",
    "3.\tclass: PascalCase\n",
    "4.\tmethod: lowercase_underscore\n",
    "5.\tconstant: UPPERCASE_UNDERSCORE\n",
    "6.\tmodule: lowercase_underscore.py\n",
    "7.\tpackage: lowercasenoseparation\n",
    "-\tuse descriptive names when choosing names.\n"
   ]
  },
  {
   "cell_type": "markdown",
   "metadata": {},
   "source": [
    "### 3. Code layout\n",
    "-\tlaying out your code helps readability\n",
    "-\t79 charachter line limit\n",
    "-\tthere are specific rules for blank spaces:\n",
    "1.\tsurround top-level functions and classes with two blank lines\n",
    "2.\tsurround method definitions inside classes with a single blank line\n",
    "3.\tuse blank lines sparingly inside functions to show clear steps\n",
    "\n",
    "-\tyou can indent lines so that they look more organized"
   ]
  },
  {
   "cell_type": "markdown",
   "metadata": {},
   "source": [
    "### 4. Tips and Tricks to Help Ensure Your Code Follows PEP8\n",
    "#### LINTERS\n",
    "-\tlinters are programs that analize code and look for flag errors.\n",
    "-\tsome of them are pycodestyle, flake8 and ruff\n",
    "-\tthey highlight the errors where pep8 isnt followed.\n",
    "\n",
    "#### AUTOFORMATTERS\n",
    "-\tautoformatters are programs that change your code automatically so that it follows pep8.\n",
    "-\tit uses 88 charachers instead of 79\n",
    "-\tsuch as black, autopep8 or yapf"
   ]
  },
  {
   "cell_type": "markdown",
   "metadata": {},
   "source": [
    "### CONCLUSION\n",
    "\n",
    "- PEP8 seems like a very good idea. Specially in code where basically everyone lets their own mind control how their code works. It's already complicated to read code and understand everything that is happening, so we can at least have a format that facilitates the readable and undertsandable part."
   ]
  }
 ],
 "metadata": {
  "language_info": {
   "name": "python"
  }
 },
 "nbformat": 4,
 "nbformat_minor": 2
}
